{
 "cells": [
  {
   "cell_type": "code",
   "execution_count": 17,
   "metadata": {},
   "outputs": [],
   "source": [
    "import pandas as pd\n",
    "df = pd.read_csv('weather.csv')"
   ]
  },
  {
   "cell_type": "code",
   "execution_count": 18,
   "metadata": {},
   "outputs": [],
   "source": [
    "df2 = df.fillna(value =0)"
   ]
  },
  {
   "cell_type": "code",
   "execution_count": 19,
   "metadata": {},
   "outputs": [
    {
     "name": "stdout",
     "output_type": "stream",
     "text": [
      "     MinTemp  MaxTemp  Rainfall  Evaporation  Sunshine WindGustDir  \\\n",
      "0        8.0     24.3       0.0          3.4       6.3          NW   \n",
      "1       14.0     26.9       3.6          4.4       9.7         ENE   \n",
      "2       13.7     23.4       3.6          5.8       3.3          NW   \n",
      "3       13.3     15.5      39.8          7.2       9.1          NW   \n",
      "4        7.6     16.1       2.8          5.6      10.6         SSE   \n",
      "..       ...      ...       ...          ...       ...         ...   \n",
      "361      9.0     30.7       0.0          7.6      12.1         NNW   \n",
      "362      7.1     28.4       0.0         11.6      12.7           N   \n",
      "363     12.5     19.9       0.0          8.4       5.3         ESE   \n",
      "364     12.5     26.9       0.0          5.0       7.1          NW   \n",
      "365     12.3     30.2       0.0          6.0      12.6          NW   \n",
      "\n",
      "     WindGustSpeed WindDir9am WindDir3pm  WindSpeed9am  ...  Pressure3pm  \\\n",
      "0             30.0         SW         NW           6.0  ...       1015.0   \n",
      "1             39.0          E          W           4.0  ...       1008.4   \n",
      "2             85.0          N        NNE           6.0  ...       1007.2   \n",
      "3             54.0        WNW          W          30.0  ...       1007.0   \n",
      "4             50.0        SSE        ESE          20.0  ...       1018.5   \n",
      "..             ...        ...        ...           ...  ...          ...   \n",
      "361           76.0        SSE         NW           7.0  ...       1010.8   \n",
      "362           48.0        NNW        NNW           2.0  ...       1016.9   \n",
      "363           43.0        ENE        ENE          11.0  ...       1022.8   \n",
      "364           46.0        SSW        WNW           6.0  ...       1016.2   \n",
      "365           78.0         NW        WNW          31.0  ...       1009.2   \n",
      "\n",
      "     Cloud9am  Cloud3pm  Temp9am  Temp3pm  RainToday  RISK_MM  RainTomorrow  \\\n",
      "0           7         7     14.4     23.6         No      3.6           Yes   \n",
      "1           5         3     17.5     25.7        Yes      3.6           Yes   \n",
      "2           8         7     15.4     20.2        Yes     39.8           Yes   \n",
      "3           2         7     13.5     14.1        Yes      2.8           Yes   \n",
      "4           7         7     11.1     15.4        Yes      0.0            No   \n",
      "..        ...       ...      ...      ...        ...      ...           ...   \n",
      "361         1         3     20.4     30.0         No      0.0            No   \n",
      "362         0         1     17.2     28.2         No      0.0            No   \n",
      "363         3         2     14.5     18.3         No      0.0            No   \n",
      "364         6         7     15.8     25.9         No      0.0            No   \n",
      "365         1         1     23.8     28.6         No      0.0            No   \n",
      "\n",
      "     No Yes  \n",
      "0     0   1  \n",
      "1     0   1  \n",
      "2     0   1  \n",
      "3     0   1  \n",
      "4     1   0  \n",
      "..   ..  ..  \n",
      "361   1   0  \n",
      "362   1   0  \n",
      "363   1   0  \n",
      "364   1   0  \n",
      "365   1   0  \n",
      "\n",
      "[366 rows x 24 columns]\n"
     ]
    }
   ],
   "source": [
    "# Convert by using get_dummies method\n",
    "dummies = pd.get_dummies(df.RainTomorrow)\n",
    "merged = pd.concat([df, dummies], axis = 'columns')\n",
    "merged.drop(columns=['RainTomorrow'], axis = 'columns')\n",
    "print(merged)"
   ]
  },
  {
   "cell_type": "code",
   "execution_count": 20,
   "metadata": {},
   "outputs": [
    {
     "name": "stdout",
     "output_type": "stream",
     "text": [
      "     MinTemp  MaxTemp  Rainfall  Evaporation  Sunshine WindGustDir  \\\n",
      "0        8.0     24.3       0.0          3.4       6.3          NW   \n",
      "1       14.0     26.9       3.6          4.4       9.7         ENE   \n",
      "2       13.7     23.4       3.6          5.8       3.3          NW   \n",
      "3       13.3     15.5      39.8          7.2       9.1          NW   \n",
      "4        7.6     16.1       2.8          5.6      10.6         SSE   \n",
      "..       ...      ...       ...          ...       ...         ...   \n",
      "361      9.0     30.7       0.0          7.6      12.1         NNW   \n",
      "362      7.1     28.4       0.0         11.6      12.7           N   \n",
      "363     12.5     19.9       0.0          8.4       5.3         ESE   \n",
      "364     12.5     26.9       0.0          5.0       7.1          NW   \n",
      "365     12.3     30.2       0.0          6.0      12.6          NW   \n",
      "\n",
      "     WindGustSpeed WindDir9am WindDir3pm  WindSpeed9am  ...  Humidity3pm  \\\n",
      "0             30.0         SW         NW           6.0  ...           29   \n",
      "1             39.0          E          W           4.0  ...           36   \n",
      "2             85.0          N        NNE           6.0  ...           69   \n",
      "3             54.0        WNW          W          30.0  ...           56   \n",
      "4             50.0        SSE        ESE          20.0  ...           49   \n",
      "..             ...        ...        ...           ...  ...          ...   \n",
      "361           76.0        SSE         NW           7.0  ...           15   \n",
      "362           48.0        NNW        NNW           2.0  ...           22   \n",
      "363           43.0        ENE        ENE          11.0  ...           47   \n",
      "364           46.0        SSW        WNW           6.0  ...           39   \n",
      "365           78.0         NW        WNW          31.0  ...           13   \n",
      "\n",
      "     Pressure9am  Pressure3pm  Cloud9am  Cloud3pm  Temp9am  Temp3pm  \\\n",
      "0         1019.7       1015.0         7         7     14.4     23.6   \n",
      "1         1012.4       1008.4         5         3     17.5     25.7   \n",
      "2         1009.5       1007.2         8         7     15.4     20.2   \n",
      "3         1005.5       1007.0         2         7     13.5     14.1   \n",
      "4         1018.3       1018.5         7         7     11.1     15.4   \n",
      "..           ...          ...       ...       ...      ...      ...   \n",
      "361       1016.1       1010.8         1         3     20.4     30.0   \n",
      "362       1020.0       1016.9         0         1     17.2     28.2   \n",
      "363       1024.0       1022.8         3         2     14.5     18.3   \n",
      "364       1021.0       1016.2         6         7     15.8     25.9   \n",
      "365       1009.6       1009.2         1         1     23.8     28.6   \n",
      "\n",
      "     RainToday  RISK_MM RainTomorrow  \n",
      "0           No      3.6            0  \n",
      "1          Yes      3.6            0  \n",
      "2          Yes     39.8            0  \n",
      "3          Yes      2.8            0  \n",
      "4          Yes      0.0            1  \n",
      "..         ...      ...          ...  \n",
      "361         No      0.0            1  \n",
      "362         No      0.0            1  \n",
      "363         No      0.0            1  \n",
      "364         No      0.0            1  \n",
      "365         No      0.0            1  \n",
      "\n",
      "[366 rows x 22 columns]\n"
     ]
    }
   ],
   "source": [
    "# Convert by using .factorize\n",
    "df['RainTomorrow'] = pd.factorize(df['RainTomorrow'])[0]\n",
    "print(df)"
   ]
  }
 ],
 "metadata": {
  "interpreter": {
   "hash": "8dbccfc2e2da18ef8b3a8cc398b76564703c2d055829bec0f56e8f2237267680"
  },
  "kernelspec": {
   "display_name": "Python 3.9.6 64-bit",
   "language": "python",
   "name": "python3"
  },
  "language_info": {
   "codemirror_mode": {
    "name": "ipython",
    "version": 3
   },
   "file_extension": ".py",
   "mimetype": "text/x-python",
   "name": "python",
   "nbconvert_exporter": "python",
   "pygments_lexer": "ipython3",
   "version": "3.9.6"
  },
  "orig_nbformat": 4
 },
 "nbformat": 4,
 "nbformat_minor": 2
}
