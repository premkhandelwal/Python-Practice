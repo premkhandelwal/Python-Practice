{
 "cells": [
  {
   "cell_type": "code",
   "execution_count": null,
   "metadata": {},
   "outputs": [],
   "source": [
    "import pandas as pd\n",
    "\n",
    "df = pd.read_csv(\"covid_vaccine_statewise.csv\")"
   ]
  },
  {
   "cell_type": "code",
   "execution_count": null,
   "metadata": {},
   "outputs": [],
   "source": [
    "df.describe()"
   ]
  },
  {
   "cell_type": "code",
   "execution_count": 58,
   "metadata": {},
   "outputs": [
    {
     "name": "stdout",
     "output_type": "stream",
     "text": [
      "Invalid State Name\n"
     ]
    }
   ],
   "source": [
    "df1 = df.groupby('State')\n",
    "state = input(\"Enter the state name you want to search for first dose\")\n",
    "# found =df['State'].str.contains(state).count()\n",
    "# print(found)\n",
    "if (state in df['State'].values):\n",
    "    firstSum = df1.get_group(state)['First Dose Administered'].sum()\n",
    "    print(\"Total first doses in state \" + state +  \" are\" , firstSum )\n",
    "\n",
    "    secondSum = df1.get_group(state)['Second Dose Administered'].sum()\n",
    "    print(\"Total second doses in state \" + state +  \" are\" , secondSum )\n",
    "else:\n",
    "    print(\"Invalid State Name\")        "
   ]
  },
  {
   "cell_type": "code",
   "execution_count": null,
   "metadata": {},
   "outputs": [],
   "source": [
    "malesDoses = df['Male (Doses Administered)'].sum()\n",
    "print(\"Total male doses are:\" , malesDoses)\n"
   ]
  },
  {
   "cell_type": "code",
   "execution_count": null,
   "metadata": {},
   "outputs": [],
   "source": [
    "femaleDoses = df['Female (Doses Administered)'].sum()\n",
    "print(\"Total female doses are:\" , femaleDoses)\n"
   ]
  }
 ],
 "metadata": {
  "interpreter": {
   "hash": "8dbccfc2e2da18ef8b3a8cc398b76564703c2d055829bec0f56e8f2237267680"
  },
  "kernelspec": {
   "display_name": "Python 3.9.6 64-bit",
   "language": "python",
   "name": "python3"
  },
  "language_info": {
   "codemirror_mode": {
    "name": "ipython",
    "version": 3
   },
   "file_extension": ".py",
   "mimetype": "text/x-python",
   "name": "python",
   "nbconvert_exporter": "python",
   "pygments_lexer": "ipython3",
   "version": "3.9.6"
  },
  "orig_nbformat": 4
 },
 "nbformat": 4,
 "nbformat_minor": 2
}
